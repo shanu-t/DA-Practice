{
 "cells": [
  {
   "cell_type": "code",
   "execution_count": 3,
   "id": "986f77ff-53bb-4897-b3ff-4476656bf1dd",
   "metadata": {},
   "outputs": [],
   "source": [
    "import numpy as np"
   ]
  },
  {
   "cell_type": "code",
   "execution_count": 5,
   "id": "4df210ac-250f-4433-92f1-2ed185c1b6dc",
   "metadata": {},
   "outputs": [],
   "source": [
    "array = np.array([1,2,3,4])"
   ]
  },
  {
   "cell_type": "code",
   "execution_count": 7,
   "id": "5fb84ac2-66f9-4ec7-aa71-3513ce85ab23",
   "metadata": {},
   "outputs": [
    {
     "name": "stdout",
     "output_type": "stream",
     "text": [
      "[1 2 3 4]\n"
     ]
    }
   ],
   "source": [
    "print (array)"
   ]
  },
  {
   "cell_type": "code",
   "execution_count": 9,
   "id": "b1c7168d-cc69-45b8-bd4c-c2e57f65c907",
   "metadata": {},
   "outputs": [],
   "source": [
    "arr = np.arange(1,20,4)\n"
   ]
  },
  {
   "cell_type": "code",
   "execution_count": 11,
   "id": "a09669e6-b887-4c86-b3bf-00030dcf3ef2",
   "metadata": {},
   "outputs": [
    {
     "name": "stdout",
     "output_type": "stream",
     "text": [
      "[ 1  5  9 13 17]\n"
     ]
    }
   ],
   "source": [
    "print(arr)"
   ]
  },
  {
   "cell_type": "code",
   "execution_count": 13,
   "id": "5350f816-ae3b-4de2-a8fa-d4a8a4084b31",
   "metadata": {},
   "outputs": [],
   "source": [
    "arr = np.arange(1,5)"
   ]
  },
  {
   "cell_type": "code",
   "execution_count": 15,
   "id": "3dcadca0-5be1-4dab-905b-b11887317936",
   "metadata": {},
   "outputs": [
    {
     "name": "stdout",
     "output_type": "stream",
     "text": [
      "[1 2 3 4]\n"
     ]
    }
   ],
   "source": [
    "print(arr)"
   ]
  },
  {
   "cell_type": "code",
   "execution_count": 17,
   "id": "5696098f-d116-42a1-9a01-9ab95c657517",
   "metadata": {},
   "outputs": [],
   "source": [
    "arr = np.arange(3,67,8)"
   ]
  },
  {
   "cell_type": "code",
   "execution_count": 19,
   "id": "7f959ae5-cc2e-4c36-98c9-a2c64a0fb2d1",
   "metadata": {},
   "outputs": [
    {
     "name": "stdout",
     "output_type": "stream",
     "text": [
      "[ 3 11 19 27 35 43 51 59]\n"
     ]
    }
   ],
   "source": [
    "print(arr)"
   ]
  },
  {
   "cell_type": "code",
   "execution_count": 21,
   "id": "2a843682-ace3-4fab-9f5a-f57348b8d5af",
   "metadata": {},
   "outputs": [
    {
     "name": "stdout",
     "output_type": "stream",
     "text": [
      "[1.5        1.88888889 2.27777778 2.66666667 3.05555556 3.44444444\n",
      " 3.83333333 4.22222222 4.61111111 5.        ]\n"
     ]
    }
   ],
   "source": [
    "arr = np.linspace(1.5,5,10)\n",
    "print(arr)"
   ]
  },
  {
   "cell_type": "code",
   "execution_count": 23,
   "id": "1d2c0f52-3e4d-4922-9996-fac120f3b656",
   "metadata": {},
   "outputs": [
    {
     "name": "stdout",
     "output_type": "stream",
     "text": [
      "[ 2.          2.42105263  2.84210526  3.26315789  3.68421053  4.10526316\n",
      "  4.52631579  4.94736842  5.36842105  5.78947368  6.21052632  6.63157895\n",
      "  7.05263158  7.47368421  7.89473684  8.31578947  8.73684211  9.15789474\n",
      "  9.57894737 10.        ]\n"
     ]
    }
   ],
   "source": [
    "arr = np.linspace(2,10,20)\n",
    "print(arr)"
   ]
  },
  {
   "cell_type": "code",
   "execution_count": 25,
   "id": "81b92c15-27d6-4681-84da-fba09f91e70a",
   "metadata": {},
   "outputs": [
    {
     "name": "stdout",
     "output_type": "stream",
     "text": [
      "[ 5.          5.60606061  6.21212121  6.81818182  7.42424242  8.03030303\n",
      "  8.63636364  9.24242424  9.84848485 10.45454545 11.06060606 11.66666667\n",
      " 12.27272727 12.87878788 13.48484848 14.09090909 14.6969697  15.3030303\n",
      " 15.90909091 16.51515152 17.12121212 17.72727273 18.33333333 18.93939394\n",
      " 19.54545455 20.15151515 20.75757576 21.36363636 21.96969697 22.57575758\n",
      " 23.18181818 23.78787879 24.39393939 25.         25.60606061 26.21212121\n",
      " 26.81818182 27.42424242 28.03030303 28.63636364 29.24242424 29.84848485\n",
      " 30.45454545 31.06060606 31.66666667 32.27272727 32.87878788 33.48484848\n",
      " 34.09090909 34.6969697  35.3030303  35.90909091 36.51515152 37.12121212\n",
      " 37.72727273 38.33333333 38.93939394 39.54545455 40.15151515 40.75757576\n",
      " 41.36363636 41.96969697 42.57575758 43.18181818 43.78787879 44.39393939\n",
      " 45.        ]\n"
     ]
    }
   ],
   "source": [
    "arr = np.linspace(5,45,67)\n",
    "print(arr)"
   ]
  },
  {
   "cell_type": "code",
   "execution_count": 29,
   "id": "c90ca32d-bd77-4df8-a826-fd7d25b65601",
   "metadata": {},
   "outputs": [
    {
     "name": "stdout",
     "output_type": "stream",
     "text": [
      "[23 45 66 98]\n"
     ]
    }
   ],
   "source": [
    "arr = np.array([23,45,66,98])\n",
    "print(arr)"
   ]
  },
  {
   "cell_type": "code",
   "execution_count": 31,
   "id": "d83ca1d3-83c9-4605-b4ac-4e04284a8321",
   "metadata": {},
   "outputs": [],
   "source": [
    "# 0 dimension "
   ]
  },
  {
   "cell_type": "code",
   "execution_count": 33,
   "id": "6d816ddb-5e97-4d19-828c-2be9f33d89bd",
   "metadata": {},
   "outputs": [
    {
     "name": "stdout",
     "output_type": "stream",
     "text": [
      "23\n"
     ]
    }
   ],
   "source": [
    "arr = np.array(23)\n",
    "print(arr)"
   ]
  },
  {
   "cell_type": "code",
   "execution_count": 35,
   "id": "619379ab-1260-49da-84c7-0356481888c3",
   "metadata": {},
   "outputs": [
    {
     "name": "stdout",
     "output_type": "stream",
     "text": [
      "[23 56 78 89]\n"
     ]
    }
   ],
   "source": [
    "arr = np.array([23,56,78,89])\n",
    "print(arr)"
   ]
  },
  {
   "cell_type": "code",
   "execution_count": 39,
   "id": "2aa4b7c6-99f7-43c4-af4d-1e20d152267b",
   "metadata": {},
   "outputs": [
    {
     "name": "stdout",
     "output_type": "stream",
     "text": [
      "[23 56 87 23]\n",
      "dimension: 1\n"
     ]
    }
   ],
   "source": [
    "arr = np.array([23,56,87,23])\n",
    "print(arr)\n",
    "print(\"dimension:\" ,np.ndim(arr))"
   ]
  },
  {
   "cell_type": "code",
   "execution_count": 47,
   "id": "e2f2dca1-1611-494d-a62e-32171af98691",
   "metadata": {},
   "outputs": [
    {
     "name": "stdout",
     "output_type": "stream",
     "text": [
      "[[23 54]\n",
      " [65 67]\n",
      " [23 98]]\n",
      "dimension: 2\n"
     ]
    }
   ],
   "source": [
    "arr = np.array([[23,54],[65,67],[23,98]])\n",
    "print(arr)\n",
    "print(\"dimension:\" ,np.ndim(arr))\n",
    "# 2 dimension array"
   ]
  },
  {
   "cell_type": "code",
   "execution_count": 55,
   "id": "4202e7fe-11ff-41c3-a775-aad197b988ef",
   "metadata": {},
   "outputs": [
    {
     "name": "stdout",
     "output_type": "stream",
     "text": [
      "[[12 45]\n",
      " [32 78]\n",
      " [67 34]\n",
      " [89 45]\n",
      " [87 56]\n",
      " [23 98]]\n",
      "dimension: 2\n"
     ]
    }
   ],
   "source": [
    "arr = np.array([[12,45],[32,78],[67,34],[89,45],[87,56],[23,98]])\n",
    "print(arr)\n",
    "print(\"dimension:\",np.ndim(arr))"
   ]
  },
  {
   "cell_type": "code",
   "execution_count": 59,
   "id": "a40919aa-9fc2-4b54-ab9a-fdc9855dc2b4",
   "metadata": {},
   "outputs": [
    {
     "name": "stdout",
     "output_type": "stream",
     "text": [
      "[23 45]\n",
      "dimension: 1\n",
      "shape: (2,)\n"
     ]
    }
   ],
   "source": [
    "arr = np.array([23,45])\n",
    "print(arr)\n",
    "print(\"dimension:\",np.ndim(arr))\n",
    "print(\"shape:\",np.shape(arr))"
   ]
  },
  {
   "cell_type": "code",
   "execution_count": 61,
   "id": "0648649c-9c8d-4b57-be06-3904a7c3a4a0",
   "metadata": {},
   "outputs": [
    {
     "name": "stdout",
     "output_type": "stream",
     "text": [
      "[[34 65]\n",
      " [56 87]]\n",
      "dimension: 2\n",
      "shape: (2, 2)\n"
     ]
    }
   ],
   "source": [
    "arr = np.array([[34,65],[56,87]])\n",
    "print(arr)\n",
    "print(\"dimension:\",np.ndim(arr))\n",
    "print(\"shape:\",np.shape(arr))"
   ]
  },
  {
   "cell_type": "code",
   "execution_count": 63,
   "id": "6b26749f-0554-49ac-b9c9-08c967d9c8d5",
   "metadata": {},
   "outputs": [
    {
     "name": "stdout",
     "output_type": "stream",
     "text": [
      "98\n"
     ]
    }
   ],
   "source": [
    "arr = np.array([23,45,76,98,45])\n",
    "print(arr[3])"
   ]
  },
  {
   "cell_type": "code",
   "execution_count": 67,
   "id": "9333b1b9-2b37-424c-982e-1e77b9f71f1e",
   "metadata": {},
   "outputs": [
    {
     "name": "stdout",
     "output_type": "stream",
     "text": [
      "45\n"
     ]
    }
   ],
   "source": [
    "arr =  np.array([12,45,6,76])\n",
    "print(arr[-3])\n",
    "# one dimension array"
   ]
  },
  {
   "cell_type": "code",
   "execution_count": 77,
   "id": "5d586e42-0dae-4f68-bac7-9e24954a9612",
   "metadata": {},
   "outputs": [
    {
     "name": "stdout",
     "output_type": "stream",
     "text": [
      "865\n"
     ]
    }
   ],
   "source": [
    "# two dimension array\n",
    "arr = np.array([[19,56575,543,64],[34,66,865,334]])\n",
    "print(arr[1][2])"
   ]
  },
  {
   "cell_type": "code",
   "execution_count": 81,
   "id": "7a51ce7c-142f-47e5-a223-a67772e052fa",
   "metadata": {},
   "outputs": [
    {
     "name": "stdout",
     "output_type": "stream",
     "text": [
      "64\n"
     ]
    }
   ],
   "source": [
    "print(arr[0][3])"
   ]
  },
  {
   "cell_type": "code",
   "execution_count": 89,
   "id": "442129e5-8e0e-48dc-91cd-52f662acb005",
   "metadata": {},
   "outputs": [
    {
     "name": "stdout",
     "output_type": "stream",
     "text": [
      "[ 12 445  66  76]\n"
     ]
    }
   ],
   "source": [
    "# multiplication method\n",
    "arr = np.array([12,445,66,76])\n",
    "print(arr)"
   ]
  },
  {
   "cell_type": "code",
   "execution_count": 91,
   "id": "7a0fb69c-ace6-4eb5-8459-59219c04208e",
   "metadata": {},
   "outputs": [
    {
     "name": "stdout",
     "output_type": "stream",
     "text": [
      "[  36 1335  198  228]\n"
     ]
    }
   ],
   "source": [
    "print(arr*3)"
   ]
  },
  {
   "cell_type": "code",
   "execution_count": 93,
   "id": "23c0877d-5d1a-4e50-b3d2-9d400ae30b7b",
   "metadata": {},
   "outputs": [
    {
     "name": "stdout",
     "output_type": "stream",
     "text": [
      "[  84 3115  462  532]\n"
     ]
    }
   ],
   "source": [
    "print(arr*7)"
   ]
  },
  {
   "cell_type": "code",
   "execution_count": 97,
   "id": "9f200610-1829-4112-ba12-66a79d8ada05",
   "metadata": {},
   "outputs": [
    {
     "name": "stdout",
     "output_type": "stream",
     "text": [
      "[[  36   12 1062]\n",
      " [  69  228  294]]\n"
     ]
    }
   ],
   "source": [
    "arr = np.array([[12,4,354],[23,76,98]])\n",
    "print(arr*3)"
   ]
  },
  {
   "cell_type": "code",
   "execution_count": 99,
   "id": "772a64e0-899c-4588-b46b-88100d6e314a",
   "metadata": {},
   "outputs": [
    {
     "name": "stdout",
     "output_type": "stream",
     "text": [
      "a\n",
      "m\n",
      "a\n",
      "n\n"
     ]
    }
   ],
   "source": [
    "arr = np.array([1,45,67,34,76])\n",
    "str1 = \"aman\"\n",
    "for i in str1:\n",
    "    print(i)"
   ]
  },
  {
   "cell_type": "code",
   "execution_count": 101,
   "id": "68dc3a5c-c167-4fba-9397-5580846caef9",
   "metadata": {},
   "outputs": [
    {
     "name": "stdout",
     "output_type": "stream",
     "text": [
      "2\n",
      "56\n",
      "87\n",
      "45\n"
     ]
    }
   ],
   "source": [
    "arr = np.array([2,56,87,45])\n",
    "str1 = \"aman\"\n",
    "for i in arr:\n",
    "    print(i)"
   ]
  },
  {
   "cell_type": "code",
   "execution_count": 103,
   "id": "043174a0-5845-437e-af54-ce7a3e8ed9be",
   "metadata": {},
   "outputs": [
    {
     "name": "stdout",
     "output_type": "stream",
     "text": [
      "12\n",
      "45\n",
      "76\n",
      "34\n",
      "87\n",
      "67\n"
     ]
    }
   ],
   "source": [
    "arr = np.array([[12,45,76],[34,87,67]])\n",
    "for i in arr:\n",
    "    for j in i:\n",
    "        print(j)"
   ]
  },
  {
   "cell_type": "code",
   "execution_count": 107,
   "id": "04e8e7b0-5f6e-4467-b473-3ff8c5ed62c2",
   "metadata": {},
   "outputs": [],
   "source": [
    "import numpy"
   ]
  },
  {
   "cell_type": "code",
   "execution_count": 113,
   "id": "94330877-da95-49ae-8dd8-53681e2a331a",
   "metadata": {},
   "outputs": [
    {
     "name": "stdout",
     "output_type": "stream",
     "text": [
      "0\n",
      "1\n",
      "2\n",
      "3\n"
     ]
    }
   ],
   "source": [
    "arr = numpy.array([[12,56],[34,87]])\n",
    "for a in range(0,numpy.size(arr)):\n",
    "    print(a)\n"
   ]
  },
  {
   "cell_type": "code",
   "execution_count": 115,
   "id": "00e8a5c4-81ae-48cb-949d-9d91b6632136",
   "metadata": {},
   "outputs": [
    {
     "name": "stdout",
     "output_type": "stream",
     "text": [
      "12\n",
      "56\n",
      "56\n",
      "88\n"
     ]
    }
   ],
   "source": [
    "arr = numpy.array([[12,56,46],[56,88,67]])\n",
    "for a in range(0,2):\n",
    "    for b in range(0,2):\n",
    "        print(arr[a][b])"
   ]
  },
  {
   "cell_type": "code",
   "execution_count": 117,
   "id": "bfb88769-be05-4335-aa2c-dd57d799eb48",
   "metadata": {},
   "outputs": [],
   "source": [
    "# addition method"
   ]
  },
  {
   "cell_type": "code",
   "execution_count": 119,
   "id": "c77fb183-2704-4d04-8f75-24770dae1598",
   "metadata": {},
   "outputs": [
    {
     "name": "stdout",
     "output_type": "stream",
     "text": [
      "24\n",
      "61\n",
      "92\n",
      "114\n",
      "176\n",
      "132\n"
     ]
    }
   ],
   "source": [
    "arr1=numpy.array([[12,56,46],[56,88,67]])\n",
    "arr2=numpy.array([[12,5,46],[58,88,65]])\n",
    "for a in range(0,2):\n",
    "    for b in range(0,3):\n",
    "        print(arr1[a][b]+arr2[a][b])"
   ]
  },
  {
   "cell_type": "code",
   "execution_count": 121,
   "id": "40d040c4-00c4-482b-91c5-f19589ffbdf5",
   "metadata": {},
   "outputs": [],
   "source": [
    "# write a program to traverse a matrix"
   ]
  },
  {
   "cell_type": "code",
   "execution_count": 127,
   "id": "76e442f3-648e-4b87-9db9-a115112e982e",
   "metadata": {},
   "outputs": [
    {
     "name": "stdout",
     "output_type": "stream",
     "text": [
      "[[12 56 46]\n",
      " [56 88 67]]\n"
     ]
    }
   ],
   "source": [
    "arr = numpy.array([[12,56,46],[56,88,67]])\n",
    "print(arr)\n"
   ]
  },
  {
   "cell_type": "code",
   "execution_count": 135,
   "id": "0e850fa8-71fd-49ef-bf46-6a02b01aeb39",
   "metadata": {},
   "outputs": [
    {
     "name": "stdout",
     "output_type": "stream",
     "text": [
      "[[12 56 46]\n",
      " [56 88 67]]\n",
      "[0] [0]\n",
      "[0] [1]\n",
      "[0] [2]\n",
      "[1] [0]\n",
      "[1] [1]\n",
      "[1] [2]\n"
     ]
    }
   ],
   "source": [
    "arr = numpy.array([[12,56,46],[56,88,67]])\n",
    "print(arr)\n",
    "for a in range (0,2):\n",
    "    for b in range (0,3):\n",
    "        print([a],[b])"
   ]
  },
  {
   "cell_type": "code",
   "execution_count": 141,
   "id": "49063951-6d03-4424-9aed-550a7e2fdc93",
   "metadata": {},
   "outputs": [
    {
     "name": "stdout",
     "output_type": "stream",
     "text": [
      "[2 5 9]\n"
     ]
    }
   ],
   "source": [
    "import numpy as np\n",
    "arr1 = np.array([2,5,67])\n",
    "arr2 = arr1.copy()\n",
    "arr1[2]=9\n",
    "print(arr1)\n"
   ]
  },
  {
   "cell_type": "code",
   "execution_count": 151,
   "id": "3051f28d-d6a8-4966-a949-2646f45ad014",
   "metadata": {},
   "outputs": [],
   "source": [
    "import numpy as np\n",
    "arr1 = np.array([2,34564,56,678,56])\n",
    "target = 7 \n",
    "for a in range(0,np.size(arr1)):\n",
    "    if (arr1[a]==target):\n",
    "        print(\"value Found on position:\",a)\n",
    "    "
   ]
  },
  {
   "cell_type": "code",
   "execution_count": 153,
   "id": "62678ede-7da0-497d-89a3-20ce2fc53679",
   "metadata": {},
   "outputs": [
    {
     "name": "stdout",
     "output_type": "stream",
     "text": [
      "[0 0 0 0 0]\n"
     ]
    }
   ],
   "source": [
    "import numpy as np \n",
    "arr1 = np.array([2,34564,56,678,56])\n",
    "arr = np.zeros_like(arr1)\n",
    "print(arr)\n",
    "# array creation functions"
   ]
  },
  {
   "cell_type": "code",
   "execution_count": 155,
   "id": "11b423ba-4f68-438a-b812-801f384112c4",
   "metadata": {},
   "outputs": [
    {
     "name": "stdout",
     "output_type": "stream",
     "text": [
      "[1 1 1 1 1]\n"
     ]
    }
   ],
   "source": [
    "import numpy as np\n",
    "arr1  = np.array([2,34564,56,678,56])\n",
    "arr = np.ones_like(arr1)\n",
    "print(arr)"
   ]
  },
  {
   "cell_type": "code",
   "execution_count": 157,
   "id": "eefc7fe4-dc87-4cac-b0ad-05a9ab07902b",
   "metadata": {},
   "outputs": [
    {
     "name": "stdout",
     "output_type": "stream",
     "text": [
      "[[1 0 0 0]\n",
      " [0 1 0 0]\n",
      " [0 0 1 0]\n",
      " [0 0 0 1]]\n"
     ]
    }
   ],
   "source": [
    "import numpy as np\n",
    "arr1  = np.array([2,34564,56,678,56])\n",
    "arr = np.eye(4,dtype=int)\n",
    "print(arr)"
   ]
  },
  {
   "cell_type": "code",
   "execution_count": 161,
   "id": "f068d7af-60e7-40e9-aecd-59d17c0b058f",
   "metadata": {},
   "outputs": [],
   "source": [
    "# array manipulation function\n",
    "# reshape:- to change the shape of an array"
   ]
  },
  {
   "cell_type": "code",
   "execution_count": 177,
   "id": "6bdefa35-4a57-4893-817b-82f1460cd5bc",
   "metadata": {},
   "outputs": [
    {
     "name": "stdout",
     "output_type": "stream",
     "text": [
      "[[  2 345  56]\n",
      " [ 22  76  54]]\n"
     ]
    },
    {
     "ename": "TypeError",
     "evalue": "'numpy.ndarray' object is not callable",
     "output_type": "error",
     "traceback": [
      "\u001b[1;31m---------------------------------------------------------------------------\u001b[0m",
      "\u001b[1;31mTypeError\u001b[0m                                 Traceback (most recent call last)",
      "Cell \u001b[1;32mIn[177], line 3\u001b[0m\n\u001b[0;32m      1\u001b[0m arr \u001b[38;5;241m=\u001b[39m np\u001b[38;5;241m.\u001b[39marray([[\u001b[38;5;241m2\u001b[39m,\u001b[38;5;241m345\u001b[39m,\u001b[38;5;241m56\u001b[39m],[\u001b[38;5;241m22\u001b[39m,\u001b[38;5;241m76\u001b[39m,\u001b[38;5;241m54\u001b[39m]])\n\u001b[0;32m      2\u001b[0m \u001b[38;5;28mprint\u001b[39m(arr)\n\u001b[1;32m----> 3\u001b[0m arr1 \u001b[38;5;241m=\u001b[39m np\u001b[38;5;241m.\u001b[39mreshape(arr(\u001b[38;5;241m56\u001b[39m,\u001b[38;5;241m0\u001b[39m))\n\u001b[0;32m      4\u001b[0m \u001b[38;5;28mprint\u001b[39m(arr1)\n",
      "\u001b[1;31mTypeError\u001b[0m: 'numpy.ndarray' object is not callable"
     ]
    }
   ],
   "source": [
    "arr = np.array([[2,345,56],[22,76,54]])\n",
    "print(arr)\n",
    "arr1 = np.reshape(arr(56,0))\n",
    "print(arr1)\n"
   ]
  },
  {
   "cell_type": "code",
   "execution_count": 175,
   "id": "fdb1aa38-b3c0-4bb1-9559-9ff210d52abf",
   "metadata": {},
   "outputs": [
    {
     "name": "stdout",
     "output_type": "stream",
     "text": [
      "[[ 2 34 56]\n",
      " [ 6 56 34]]\n",
      "[[ 2  6]\n",
      " [34 56]\n",
      " [56 34]]\n"
     ]
    }
   ],
   "source": [
    "import numpy as np\n",
    "arr = np.array([[2,34,56],[6,56,34]])\n",
    "print(arr)\n",
    "arr1 = np.transpose(arr)\n",
    "print(arr1)"
   ]
  },
  {
   "cell_type": "code",
   "execution_count": 179,
   "id": "955e0233-2ca2-4ce2-a719-907167f1403b",
   "metadata": {},
   "outputs": [
    {
     "name": "stdout",
     "output_type": "stream",
     "text": [
      "[ 46 122]\n"
     ]
    }
   ],
   "source": [
    "# array mathematical function\n",
    "import numpy as np\n",
    "arr1 =np.array([12,55])\n",
    "arr2 =np.array([34,67])\n",
    "arr3 =np.add(arr1,arr2)\n",
    "print(arr3)"
   ]
  },
  {
   "cell_type": "code",
   "execution_count": 183,
   "id": "f9c1285b-18bb-4b39-bd91-a386107dfd2e",
   "metadata": {},
   "outputs": [
    {
     "name": "stdout",
     "output_type": "stream",
     "text": [
      "[20 -9]\n"
     ]
    }
   ],
   "source": [
    "import numpy as np\n",
    "arr1 = np.array([14,76])\n",
    "arr2 =np.array([34,67])\n",
    "arr3 =np.subtract(arr2,arr1)\n",
    "print(arr3)"
   ]
  },
  {
   "cell_type": "code",
   "execution_count": 185,
   "id": "60f7f5f7-9cf2-4ddc-803c-52645df0d599",
   "metadata": {},
   "outputs": [
    {
     "name": "stdout",
     "output_type": "stream",
     "text": [
      "[3.74165739 8.71779789]\n"
     ]
    }
   ],
   "source": [
    "import numpy as np\n",
    "arr1 = np.array([14,76])\n",
    "arr3 =np.sqrt(arr1)\n",
    "print(arr3)"
   ]
  },
  {
   "cell_type": "code",
   "execution_count": 189,
   "id": "2fc115fb-012a-473d-8a43-7bb8c9d4673b",
   "metadata": {},
   "outputs": [
    {
     "name": "stdout",
     "output_type": "stream",
     "text": [
      "[ 196 5776]\n"
     ]
    }
   ],
   "source": [
    "import numpy as np\n",
    "arr1 = np.array([14,76])\n",
    "arr3 =np.power(arr1,2)\n",
    "print(arr3)"
   ]
  },
  {
   "cell_type": "code",
   "execution_count": 193,
   "id": "ef241e58-a94f-468e-807f-b67e8db10714",
   "metadata": {},
   "outputs": [
    {
     "name": "stdout",
     "output_type": "stream",
     "text": [
      "median: 87.0\n"
     ]
    }
   ],
   "source": [
    "# array stats functions\n",
    "marks=np.array([223,56,87])\n",
    "print(\"median:\" ,np.median(marks))"
   ]
  },
  {
   "cell_type": "code",
   "execution_count": 199,
   "id": "343841a4-c694-4305-ba56-48773a3304d3",
   "metadata": {},
   "outputs": [
    {
     "name": "stdout",
     "output_type": "stream",
     "text": [
      "mean: 122.0\n"
     ]
    }
   ],
   "source": [
    "marks=np.array([223,56,87])\n",
    "print(\"mean:\" ,np.mean(marks))\n",
    "\n"
   ]
  },
  {
   "cell_type": "code",
   "execution_count": null,
   "id": "ebe668f2-ed47-456e-ac2f-259b0ed9452e",
   "metadata": {},
   "outputs": [],
   "source": [
    " "
   ]
  }
 ],
 "metadata": {
  "kernelspec": {
   "display_name": "Python 3 (ipykernel)",
   "language": "python",
   "name": "python3"
  },
  "language_info": {
   "codemirror_mode": {
    "name": "ipython",
    "version": 3
   },
   "file_extension": ".py",
   "mimetype": "text/x-python",
   "name": "python",
   "nbconvert_exporter": "python",
   "pygments_lexer": "ipython3",
   "version": "3.12.4"
  }
 },
 "nbformat": 4,
 "nbformat_minor": 5
}
