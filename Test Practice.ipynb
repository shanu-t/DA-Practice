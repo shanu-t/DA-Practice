{
 "cells": [
  {
   "cell_type": "code",
   "execution_count": 1,
   "id": "0f8caeac-2639-498a-a0a5-54bd11b30975",
   "metadata": {},
   "outputs": [],
   "source": [
    "#  Ques 1:- How to find factorial of a number?"
   ]
  },
  {
   "cell_type": "code",
   "execution_count": 25,
   "id": "e8ea7052-955c-49e3-83d8-aa6911bc8095",
   "metadata": {},
   "outputs": [
    {
     "name": "stdin",
     "output_type": "stream",
     "text": [
      "Enter A Number:  6\n"
     ]
    },
    {
     "name": "stdout",
     "output_type": "stream",
     "text": [
      "1\n",
      "2\n",
      "6\n",
      "24\n",
      "120\n",
      "720\n"
     ]
    }
   ],
   "source": [
    "num = int(input(\"Enter A Number: \"))\n",
    "fact = 1\n",
    "for a in range(1,num+1):\n",
    "    fact = fact*a\n",
    "    print(fact)"
   ]
  },
  {
   "cell_type": "code",
   "execution_count": 5,
   "id": "98e85a4d-046c-478a-bdbb-dec932ba0562",
   "metadata": {},
   "outputs": [],
   "source": [
    "# Ques 2:- How to find prime factor of a number?"
   ]
  },
  {
   "cell_type": "code",
   "execution_count": 23,
   "id": "8e55b9ce-68ed-4881-9f39-51d61f505d6f",
   "metadata": {},
   "outputs": [
    {
     "name": "stdin",
     "output_type": "stream",
     "text": [
      "Enter A Number :  12\n"
     ]
    },
    {
     "name": "stdout",
     "output_type": "stream",
     "text": [
      "Not Prime\n"
     ]
    }
   ],
   "source": [
    "num = int(input(\"Enter A Number : \"))\n",
    "count = 0\n",
    "for a in range(1,num+1):\n",
    "    if(num%a==0):\n",
    "        count=count+1\n",
    "\n",
    "if(count==2):\n",
    "    print(\"Prime\")\n",
    "\n",
    "else:\n",
    "    print(\"Not Prime\")\n",
    "        "
   ]
  },
  {
   "cell_type": "code",
   "execution_count": 11,
   "id": "c8b9b5d8-6b9a-44d2-8371-210725a1730d",
   "metadata": {},
   "outputs": [],
   "source": [
    "# Ques 3:- WAP to Reverse a number?"
   ]
  },
  {
   "cell_type": "code",
   "execution_count": 21,
   "id": "4a8e84db-fef5-48f1-b059-5a9a14fd781a",
   "metadata": {},
   "outputs": [
    {
     "name": "stdin",
     "output_type": "stream",
     "text": [
      "Enter A Number :  123\n"
     ]
    },
    {
     "name": "stdout",
     "output_type": "stream",
     "text": [
      "321\n"
     ]
    }
   ],
   "source": [
    "num = int(input(\"Enter A Number : \"))\n",
    "sums = 0\n",
    "while(num>0):\n",
    "    rem = num%10\n",
    "    sums = sums*10+rem\n",
    "    num = num//10\n",
    "\n",
    "print(sums)"
   ]
  },
  {
   "cell_type": "code",
   "execution_count": 17,
   "id": "a6075444-6c6e-40ad-b8ef-cbdd995c8637",
   "metadata": {},
   "outputs": [],
   "source": [
    "# Ques 4:- WAP to Armstrong No?"
   ]
  },
  {
   "cell_type": "code",
   "execution_count": 19,
   "id": "3afbe5c0-06a6-4256-8a65-a82b5edde89b",
   "metadata": {},
   "outputs": [
    {
     "name": "stdin",
     "output_type": "stream",
     "text": [
      "Enter A Number :  153\n"
     ]
    },
    {
     "name": "stdout",
     "output_type": "stream",
     "text": [
      "Not Arm\n"
     ]
    }
   ],
   "source": [
    "num = int(input(\"Enter A Number : \"))\n",
    "copy = num\n",
    "sums = 0\n",
    "while(num>0):\n",
    "    rem = num%10\n",
    "    sums = sums+num**3\n",
    "    num = num//10\n",
    "\n",
    "if(copy==sums):\n",
    "    print(\"Armstrong\")\n",
    "\n",
    "else:\n",
    "    print(\"Not Arm\")"
   ]
  },
  {
   "cell_type": "code",
   "execution_count": 27,
   "id": "a84c227e-c533-4d69-8193-28fabb675f57",
   "metadata": {},
   "outputs": [],
   "source": [
    "# Ques 5:- Addition of two matrix of 2d?"
   ]
  },
  {
   "cell_type": "code",
   "execution_count": 33,
   "id": "7e45de83-0424-4b00-9f58-c367cbe7dfbe",
   "metadata": {},
   "outputs": [
    {
     "name": "stdout",
     "output_type": "stream",
     "text": [
      "[10, 10, 10]\n",
      "[10, 10, 10]\n",
      "[10, 10, 10]\n"
     ]
    }
   ],
   "source": [
    "X = [[1, 2, 3],\n",
    "     [4, 5, 6],\n",
    "     [7, 8, 9]]\n",
    "\n",
    "Y = [[9, 8, 7],\n",
    "     [6, 5, 4],\n",
    "     [3, 2, 1]]\n",
    "\n",
    "result = [[X[i][j] + Y[i][j] for j in range\n",
    "           (len(X[0]))] for i in range(len(X))]\n",
    "\n",
    "for r in result:\n",
    "    print(r)"
   ]
  },
  {
   "cell_type": "code",
   "execution_count": 35,
   "id": "c165056a-ff0b-4dc7-b1a6-582b09c4631b",
   "metadata": {},
   "outputs": [],
   "source": [
    "# Ques 6:- Print All even number from a 1d array?"
   ]
  },
  {
   "cell_type": "code",
   "execution_count": 37,
   "id": "e0191057-3041-499a-93eb-923c3fafc8ad",
   "metadata": {},
   "outputs": [
    {
     "name": "stdout",
     "output_type": "stream",
     "text": [
      "2 4 6 8 10 "
     ]
    }
   ],
   "source": [
    "a = [1, 2, 3, 4, 5, 6, 7, 8, 9, 10]\n",
    "for val in a:\n",
    "   # Checks if a number is divisible by 2 (i.e., even).\n",
    "    if val % 2 == 0:\n",
    "        print(val, end = \" \")"
   ]
  },
  {
   "cell_type": "code",
   "execution_count": 39,
   "id": "138f67a2-dcd0-4105-94fb-70195b467ce7",
   "metadata": {},
   "outputs": [],
   "source": [
    "# Ques 7:- Transformation of a column?"
   ]
  },
  {
   "cell_type": "code",
   "execution_count": 47,
   "id": "6bc4866b-ef27-4302-b09b-4da4e87812db",
   "metadata": {},
   "outputs": [
    {
     "name": "stdout",
     "output_type": "stream",
     "text": [
      "      Name  Age  Salary  Gender\n",
      "0    Alice   28   60000  Female\n",
      "1      Bob   34   75000    Male\n",
      "2  Charlie   22   50000    Male\n",
      "3    David   45   90000    Male\n",
      "4      Eva   31   65000  Female\n"
     ]
    }
   ],
   "source": [
    "import pandas as pd\n",
    "data = {\n",
    "    'Name': ['Alice', 'Bob', 'Charlie', 'David', 'Eva'],\n",
    "    'Age': [28, 34, 22, 45, 31],\n",
    "    'Salary': [60000, 75000, 50000, 90000, 65000],\n",
    "    'Gender': ['Female', 'Male', 'Male', 'Male', 'Female'],\n",
    "\n",
    " }\n",
    "df = pd.DataFrame(data)\n",
    "print(df)"
   ]
  },
  {
   "cell_type": "code",
   "execution_count": 49,
   "id": "b36d7351-3f6e-44fb-b0aa-d16095c577cf",
   "metadata": {},
   "outputs": [],
   "source": [
    "# Ques 8:-  How to create a new column?"
   ]
  },
  {
   "cell_type": "code",
   "execution_count": 73,
   "id": "d70c123b-164e-4f89-b0db-9259a6eeea75",
   "metadata": {},
   "outputs": [
    {
     "name": "stdout",
     "output_type": "stream",
     "text": [
      "     Name  Height Qualification  Address\n",
      "0  Pandas       1             A  NewYork\n",
      "1   numpy       2             B  Chicago\n",
      "2     for       3             C   Boston\n",
      "3   numpy       4             D    Miami\n"
     ]
    }
   ],
   "source": [
    "import pandas as pd\n",
    "data = {'Name': ['Pandas', 'numpy', 'for', 'numpy'],\n",
    "        'Height': [1, 2, 3, 4],\n",
    "        'Qualification': ['A', 'B', 'C', 'D']}\n",
    "\n",
    "df = pd.DataFrame(data)\n",
    "address = ['NewYork', 'Chicago', 'Boston', 'Miami']\n",
    "\n",
    "df['Address'] = address\n",
    "\n",
    "print(df)\n",
    "\n",
    "\n",
    "\n"
   ]
  },
  {
   "cell_type": "code",
   "execution_count": 75,
   "id": "16ec814f-c906-4473-96c2-63a3d9563c15",
   "metadata": {},
   "outputs": [],
   "source": [
    "# Ques 9:- # Double line graph with marker?\n"
   ]
  },
  {
   "cell_type": "code",
   "execution_count": 83,
   "id": "1e81ab69-14b2-4d1f-9de9-eda781c84784",
   "metadata": {},
   "outputs": [
    {
     "data": {
      "image/png": "[encoded data removed]",
      "text/plain": [
       "<Figure size 640x480 with 1 Axes>"
      ]
     },
     "metadata": {},
     "output_type": "display_data"
    }
   ],
   "source": [
    "import matplotlib.pyplot as plt\n",
    "import numpy as np\n",
    "x = np.array([0,3,5,6])\n",
    "y = np.array([0,120,135,250])\n",
    "plt.plot(x,y,marker='*')\n",
    "plt.show()\n"
   ]
  },
  {
   "cell_type": "code",
   "execution_count": 85,
   "id": "bb781e17-3f53-4551-ab34-b06d216b78df",
   "metadata": {},
   "outputs": [],
   "source": [
    "# Ques 10:- Draw a bar chart using matplotlib ?"
   ]
  },
  {
   "cell_type": "code",
   "execution_count": 87,
   "id": "b0c187f6-e3d8-4fef-b212-2f2e96ec9a6b",
   "metadata": {},
   "outputs": [
    {
     "data": {
      "image/png": "[encoded data removed]",
      "text/plain": [
       "<Figure size 640x480 with 1 Axes>"
      ]
     },
     "metadata": {},
     "output_type": "display_data"
    }
   ],
   "source": [
    "import pandas as pd \n",
    "import numpy as np\n",
    "import matplotlib.pyplot as plt\n",
    "x = [10,40,56,34,76]\n",
    "y = [\"jan\",\"feb\",\"mar\",\"apr\",\"may\"]\n",
    "plt.bar(y,x)\n",
    "\n",
    "plt.show()"
   ]
  },
  {
   "cell_type": "code",
   "execution_count": 89,
   "id": "2615ac82-22e2-4eba-ba17-690c34005633",
   "metadata": {},
   "outputs": [
    {
     "data": {
      "image/png": "[encoded data removed]",
      "text/plain": [
       "<Figure size 640x480 with 3 Axes>"
      ]
     },
     "metadata": {},
     "output_type": "display_data"
    }
   ],
   "source": [
    "#subplot\n",
    "import pandas as pd\n",
    "import numpy as np\n",
    "import matplotlib.pyplot as plt\n",
    "\n",
    "sales1 = [23,6,35,24,45]\n",
    "months1 =[\"Jan\",\"Feb\",\"Mar\",\"Apr\",\"May\"]\n",
    "sales2 = [32,56,14,74,51]\n",
    "months2 =[\"Jan\",\"Feb\",\"Mar\",\"Apr\",\"May\"]\n",
    "\n",
    "\n",
    "font1={\"family\":\"arial\",\"color\":\"red\",\"size\":10}\n",
    "font2 ={\"family\":\"arial\",\"color\":\"green\",\"size\":10}\n",
    "plt.xlabel(\"sales in Months\",fontdict=font1,loc=\"right\")\n",
    "plt.ylabel(\"Rupees in Thousands\",fontdict=font2)\n",
    "\n",
    "plt.title(\"Sales in Month\")\n",
    "plt.plot(months1,sales1)\n",
    "plt.subplot(1,2,1)\n",
    "plt.plot(months2,sales2)\n",
    "plt.subplot(1,2,2)\n",
    "plt.show()\n"
   ]
  },
  {
   "cell_type": "code",
   "execution_count": null,
   "id": "d289b2c4-30ed-45be-8dc4-c7f7b76dbebd",
   "metadata": {},
   "outputs": [],
   "source": []
  }
 ],
 "metadata": {
  "kernelspec": {
   "display_name": "Python 3 (ipykernel)",
   "language": "python",
   "name": "python3"
  },
  "language_info": {
   "codemirror_mode": {
    "name": "ipython",
    "version": 3
   },
   "file_extension": ".py",
   "mimetype": "text/x-python",
   "name": "python",
   "nbconvert_exporter": "python",
   "pygments_lexer": "ipython3",
   "version": "3.12.4"
  }
 },
 "nbformat": 4,
 "nbformat_minor": 5
}
